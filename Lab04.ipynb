{
 "cells": [
  {
   "cell_type": "markdown",
   "metadata": {},
   "source": [
    "## Lab 04 - Object Recognition"
   ]
  },
  {
   "cell_type": "code",
   "execution_count": 1,
   "metadata": {
    "colab": {
     "base_uri": "https://localhost:8080/"
    },
    "executionInfo": {
     "elapsed": 20007,
     "status": "ok",
     "timestamp": 1737129820530,
     "user": {
      "displayName": "Gaia Volpi",
      "userId": "12175916180777783717"
     },
     "user_tz": -60
    },
    "id": "N-nHIh6SANGA",
    "outputId": "6832428f-1468-496d-fc3f-dc4d2068be61"
   },
   "outputs": [
    {
     "name": "stderr",
     "output_type": "stream",
     "text": [
      "YOLOv5 🚀 v7.0-400-gb087d0f6 Python-3.8.20 torch-2.4.1+cu121 CUDA:0 (NVIDIA RTX A6000, 48677MiB)\n"
     ]
    },
    {
     "name": "stdout",
     "output_type": "stream",
     "text": [
      "Setup complete ✅ (128 CPUs, 503.5 GB RAM, 885.3/915.3 GB disk)\n"
     ]
    }
   ],
   "source": [
    "import torch\n",
    "import utils\n",
    "display = utils.notebook_init()"
   ]
  },
  {
   "cell_type": "markdown",
   "metadata": {
    "id": "A_4dZeh1Advf"
   },
   "source": [
    "### 1. Train the model\n",
    "We train YOLOv5 model on some custom dataset from https://universe.roboflow.com/ds/jKA6DluL02?key=upakzFXQ1O."
   ]
  },
  {
   "cell_type": "code",
   "execution_count": 2,
   "metadata": {},
   "outputs": [
    {
     "name": "stdout",
     "output_type": "stream",
     "text": [
      "\u001b[34m\u001b[1mtrain: \u001b[0mweights=yolov5s.pt, cfg=, data=data.yaml, hyp=data/hyps/hyp.scratch-low.yaml, epochs=3, batch_size=16, imgsz=640, rect=False, resume=False, nosave=False, noval=False, noautoanchor=False, noplots=False, evolve=None, evolve_population=data/hyps, resume_evolve=None, bucket=, cache=ram, image_weights=False, device=, multi_scale=False, single_cls=False, optimizer=SGD, sync_bn=False, workers=8, project=runs/train, name=exp, exist_ok=False, quad=False, cos_lr=False, label_smoothing=0.0, patience=100, freeze=[0], save_period=-1, seed=0, local_rank=-1, entity=None, upload_dataset=False, bbox_interval=-1, artifact_alias=latest, ndjson_console=False, ndjson_file=False\n",
      "remote: Enumerating objects: 3481, done.\u001b[K\n",
      "remote: Counting objects: 100% (3302/3302), done.\u001b[K\n",
      "remote: Compressing objects: 100% (972/972), done.\u001b[K\n",
      "remote: Total 3201 (delta 2436), reused 2976 (delta 2227), pack-reused 0 (from 0)\u001b[K\n",
      "Receiving objects: 100% (3201/3201), 400.62 KiB | 4.66 MiB/s, done.\n",
      "Resolving deltas: 100% (2436/2436), completed with 57 local objects.\n",
      "From https://github.com/ultralytics/yolov5\n",
      " * [new branch]        add/weights_dir   -> ultralytics/add/weights_dir\n",
      " * [new branch]        exp/scaleFill     -> ultralytics/exp/scaleFill\n",
      " * [new branch]        exp12             -> ultralytics/exp12\n",
      " * [new branch]        exp13             -> ultralytics/exp13\n",
      " * [new branch]        exp13-nosoft      -> ultralytics/exp13-nosoft\n",
      " * [new branch]        exp13-soft        -> ultralytics/exp13-soft\n",
      " * [new branch]        master            -> ultralytics/master\n",
      " * [new branch]        study_activations -> ultralytics/study_activations\n",
      " * [new branch]        update/cls-album  -> ultralytics/update/cls-album\n",
      " * [new tag]           v1.0              -> v1.0\n",
      " * [new tag]           v2.0              -> v2.0\n",
      " * [new tag]           v3.0              -> v3.0\n",
      " * [new tag]           v3.1              -> v3.1\n",
      " * [new tag]           v4.0              -> v4.0\n",
      " * [new tag]           v5.0              -> v5.0\n",
      " * [new tag]           v6.0              -> v6.0\n",
      " * [new tag]           v6.1              -> v6.1\n",
      " * [new tag]           v6.2              -> v6.2\n",
      " * [new tag]           v7.0              -> v7.0\n",
      "\u001b[34m\u001b[1mgithub: \u001b[0mup to date with https://github.com/ultralytics/yolov5 ✅\n",
      "YOLOv5 🚀 v7.0-400-gb087d0f6 Python-3.8.20 torch-2.4.1+cu121 CUDA:0 (NVIDIA RTX A6000, 48677MiB)\n",
      "\n",
      "\u001b[34m\u001b[1mhyperparameters: \u001b[0mlr0=0.01, lrf=0.01, momentum=0.937, weight_decay=0.0005, warmup_epochs=3.0, warmup_momentum=0.8, warmup_bias_lr=0.1, box=0.05, cls=0.5, cls_pw=1.0, obj=1.0, obj_pw=1.0, iou_t=0.2, anchor_t=4.0, fl_gamma=0.0, hsv_h=0.015, hsv_s=0.7, hsv_v=0.4, degrees=0.0, translate=0.1, scale=0.5, shear=0.0, perspective=0.0, flipud=0.0, fliplr=0.5, mosaic=1.0, mixup=0.0, copy_paste=0.0\n",
      "\u001b[34m\u001b[1mComet: \u001b[0mrun 'pip install comet_ml' to automatically track and visualize YOLOv5 🚀 runs in Comet\n",
      "\u001b[34m\u001b[1mTensorBoard: \u001b[0mStart with 'tensorboard --logdir runs/train', view at http://localhost:6006/\n",
      "Downloading https://github.com/ultralytics/yolov5/releases/download/v7.0/yolov5s.pt to yolov5s.pt...\n",
      "100%|██████████████████████████████████████| 14.1M/14.1M [00:00<00:00, 35.7MB/s]\n",
      "\n",
      "Overriding model.yaml nc=80 with nc=25\n",
      "\n",
      "                 from  n    params  module                                  arguments                     \n",
      "  0                -1  1      3520  models.common.Conv                      [3, 32, 6, 2, 2]              \n",
      "  1                -1  1     18560  models.common.Conv                      [32, 64, 3, 2]                \n",
      "  2                -1  1     18816  models.common.C3                        [64, 64, 1]                   \n",
      "  3                -1  1     73984  models.common.Conv                      [64, 128, 3, 2]               \n",
      "  4                -1  2    115712  models.common.C3                        [128, 128, 2]                 \n",
      "  5                -1  1    295424  models.common.Conv                      [128, 256, 3, 2]              \n",
      "  6                -1  3    625152  models.common.C3                        [256, 256, 3]                 \n",
      "  7                -1  1   1180672  models.common.Conv                      [256, 512, 3, 2]              \n",
      "  8                -1  1   1182720  models.common.C3                        [512, 512, 1]                 \n",
      "  9                -1  1    656896  models.common.SPPF                      [512, 512, 5]                 \n",
      " 10                -1  1    131584  models.common.Conv                      [512, 256, 1, 1]              \n",
      " 11                -1  1         0  torch.nn.modules.upsampling.Upsample    [None, 2, 'nearest']          \n",
      " 12           [-1, 6]  1         0  models.common.Concat                    [1]                           \n",
      " 13                -1  1    361984  models.common.C3                        [512, 256, 1, False]          \n",
      " 14                -1  1     33024  models.common.Conv                      [256, 128, 1, 1]              \n",
      " 15                -1  1         0  torch.nn.modules.upsampling.Upsample    [None, 2, 'nearest']          \n",
      " 16           [-1, 4]  1         0  models.common.Concat                    [1]                           \n",
      " 17                -1  1     90880  models.common.C3                        [256, 128, 1, False]          \n",
      " 18                -1  1    147712  models.common.Conv                      [128, 128, 3, 2]              \n",
      " 19          [-1, 14]  1         0  models.common.Concat                    [1]                           \n",
      " 20                -1  1    296448  models.common.C3                        [256, 256, 1, False]          \n",
      " 21                -1  1    590336  models.common.Conv                      [256, 256, 3, 2]              \n",
      " 22          [-1, 10]  1         0  models.common.Concat                    [1]                           \n",
      " 23                -1  1   1182720  models.common.C3                        [512, 512, 1, False]          \n",
      " 24      [17, 20, 23]  1     80910  models.yolo.Detect                      [25, [[10, 13, 16, 30, 33, 23], [30, 61, 62, 45, 59, 119], [116, 90, 156, 198, 373, 326]], [128, 256, 512]]\n",
      "Model summary: 214 layers, 7087054 parameters, 7087054 gradients, 16.2 GFLOPs\n",
      "\n",
      "Transferred 343/349 items from yolov5s.pt\n",
      "/home/alberto_sinigaglia/gaia/cv/models/common.py:894: FutureWarning: `torch.cuda.amp.autocast(args...)` is deprecated. Please use `torch.amp.autocast('cuda', args...)` instead.\n",
      "  with amp.autocast(autocast):\n",
      "/home/alberto_sinigaglia/gaia/cv/models/common.py:894: FutureWarning: `torch.cuda.amp.autocast(args...)` is deprecated. Please use `torch.amp.autocast('cuda', args...)` instead.\n",
      "  with amp.autocast(autocast):\n",
      "\u001b[34m\u001b[1mAMP: \u001b[0mchecks passed ✅\n",
      "\u001b[34m\u001b[1moptimizer:\u001b[0m SGD(lr=0.01) with parameter groups 57 weight(decay=0.0), 60 weight(decay=0.0005), 60 bias\n",
      "WARNING ⚠️ DP not recommended, use torch.distributed.run for best DDP Multi-GPU results.\n",
      "See Multi-GPU Tutorial at https://docs.ultralytics.com/yolov5/tutorials/multi_gpu_training to get started.\n",
      "\u001b[34m\u001b[1mtrain: \u001b[0mScanning /home/alberto_sinigaglia/gaia/cv/datasets/proj_data/train/labels\u001b[0m\n",
      "\u001b[34m\u001b[1mtrain: \u001b[0mNew cache created: /home/alberto_sinigaglia/gaia/cv/datasets/proj_data/train/labels.cache\n",
      "\u001b[34m\u001b[1mtrain: \u001b[0mCaching images (1.9GB ram): 100%|██████████| 1687/1687 [00:00<00:00, 5202\u001b[0m\n",
      "\u001b[34m\u001b[1mval: \u001b[0mScanning /home/alberto_sinigaglia/gaia/cv/datasets/proj_data/valid/labels..\u001b[0m\n",
      "\u001b[34m\u001b[1mval: \u001b[0mNew cache created: /home/alberto_sinigaglia/gaia/cv/datasets/proj_data/valid/labels.cache\n",
      "\u001b[34m\u001b[1mval: \u001b[0mCaching images (0.6GB ram): 100%|██████████| 482/482 [00:00<00:00, 1926.35i\u001b[0m\n",
      "\n",
      "\u001b[34m\u001b[1mAutoAnchor: \u001b[0m4.29 anchors/target, 1.000 Best Possible Recall (BPR). Current anchors are a good fit to dataset ✅\n",
      "Plotting labels to runs/train/exp/labels.jpg... \n",
      "train.py:355: FutureWarning: `torch.cuda.amp.GradScaler(args...)` is deprecated. Please use `torch.amp.GradScaler('cuda', args...)` instead.\n",
      "  scaler = torch.cuda.amp.GradScaler(enabled=amp)\n",
      "Image sizes 640 train, 640 val\n",
      "Using 8 dataloader workers\n",
      "Logging results to \u001b[1mruns/train/exp\u001b[0m\n",
      "Starting training for 3 epochs...\n",
      "\n",
      "      Epoch    GPU_mem   box_loss   obj_loss   cls_loss  Instances       Size\n",
      "  0%|          | 0/106 [00:00<?, ?it/s]train.py:412: FutureWarning: `torch.cuda.amp.autocast(args...)` is deprecated. Please use `torch.amp.autocast('cuda', args...)` instead.\n",
      "  with torch.cuda.amp.autocast(amp):\n",
      "        0/2      1.29G     0.1226    0.03176    0.09079         43        640:  train.py:412: FutureWarning: `torch.cuda.amp.autocast(args...)` is deprecated. Please use `torch.amp.autocast('cuda', args...)` instead.\n",
      "  with torch.cuda.amp.autocast(amp):\n",
      "        0/2      1.45G    0.08131    0.02801    0.08022         27        640: 1\n",
      "                 Class     Images  Instances          P          R      mAP50   \n",
      "                   all        482        651      0.536     0.0697     0.0391     0.0221\n",
      "\n",
      "      Epoch    GPU_mem   box_loss   obj_loss   cls_loss  Instances       Size\n",
      "        1/2      2.71G    0.04963    0.02225    0.06867         17        640: 1\n",
      "                 Class     Images  Instances          P          R      mAP50   \n",
      "                   all        482        651      0.398      0.163     0.0791     0.0408\n",
      "\n",
      "      Epoch    GPU_mem   box_loss   obj_loss   cls_loss  Instances       Size\n",
      "        2/2      2.71G    0.03988    0.01834    0.06281         18        640: 1\n",
      "                 Class     Images  Instances          P          R      mAP50   \n",
      "                   all        482        651      0.302      0.218      0.129     0.0742\n",
      "\n",
      "3 epochs completed in 0.016 hours.\n",
      "Optimizer stripped from runs/train/exp/weights/last.pt, 14.6MB\n",
      "Optimizer stripped from runs/train/exp/weights/best.pt, 14.6MB\n",
      "\n",
      "Validating runs/train/exp/weights/best.pt...\n",
      "Fusing layers... \n",
      "Model summary: 157 layers, 7077550 parameters, 0 gradients, 16.0 GFLOPs\n",
      "                 Class     Images  Instances          P          R      mAP50   \n",
      "                   all        482        651      0.342      0.218       0.13     0.0748\n",
      "          Bend_to_left        482         12          1          0       0.02     0.0129\n",
      "         Bend_to_right        482         20          0          0     0.0574     0.0418\n",
      "      Double_bend_left        482         22          1          0     0.0259     0.0143\n",
      "     Double_bend_right        482         21          1          0      0.108     0.0696\n",
      "             Fork_road        482         37      0.184      0.838      0.262      0.178\n",
      "           Narrow_road        482         30     0.0947        0.2     0.0923     0.0649\n",
      "              No_entry        482         26          1          0     0.0277     0.0155\n",
      "          No_left_turn        482         23          1          0     0.0431     0.0291\n",
      "         No_right_turn        482         22          0          0     0.0378     0.0293\n",
      "             No_u_turn        482         16          0          0     0.0259     0.0171\n",
      "     Speed_limit_100km        482         20      0.147       0.05      0.102     0.0567\n",
      "     Speed_limit_110km        482         24      0.258     0.0417      0.144      0.104\n",
      "     Speed_limit_120km        482         23     0.0371     0.0435     0.0619      0.041\n",
      "      Speed_limit_30km        482         37      0.107      0.676      0.119     0.0875\n",
      "      Speed_limit_40km        482         23     0.0636      0.087     0.0772     0.0576\n",
      "      Speed_limit_50km        482         25      0.106       0.08     0.0743     0.0505\n",
      "      Speed_limit_60km        482         14      0.158     0.0714     0.0911     0.0466\n",
      "      Speed_limit_70km        482         14          0          0     0.0616     0.0411\n",
      "      Speed_limit_80km        482         31      0.156      0.452      0.147      0.103\n",
      "      Speed_limit_90km        482         18       0.26      0.278      0.171      0.121\n",
      "   Traffic_light_green        482         44      0.228      0.841      0.593      0.262\n",
      "     Traffic_light_red        482         25      0.283        0.6      0.251      0.102\n",
      "                   car        482         87      0.176      0.943      0.462       0.25\n",
      "            motorcycle        482         28      0.288       0.25      0.164     0.0691\n",
      "                person        482          9          1          0     0.0253    0.00469\n",
      "Results saved to \u001b[1mruns/train/exp\u001b[0m\n"
     ]
    }
   ],
   "source": [
    "!python3 train.py --img 640 --batch 16 --epochs 3 --data data.yaml --weights yolov5s.pt --cache"
   ]
  },
  {
   "cell_type": "code",
   "execution_count": null,
   "metadata": {},
   "outputs": [],
   "source": []
  }
 ],
 "metadata": {
  "colab": {
   "authorship_tag": "ABX9TyMoMqFoW7GrMs/hGXquuUEu",
   "provenance": []
  },
  "kernelspec": {
   "display_name": "gaia",
   "language": "python",
   "name": "python3"
  },
  "language_info": {
   "codemirror_mode": {
    "name": "ipython",
    "version": 3
   },
   "file_extension": ".py",
   "mimetype": "text/x-python",
   "name": "python",
   "nbconvert_exporter": "python",
   "pygments_lexer": "ipython3",
   "version": "3.8.20"
  }
 },
 "nbformat": 4,
 "nbformat_minor": 0
}
